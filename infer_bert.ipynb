{
 "cells": [
  {
   "cell_type": "code",
   "execution_count": 1,
   "metadata": {},
   "outputs": [
    {
     "name": "stderr",
     "output_type": "stream",
     "text": [
      "/usr/local/lib/python3.10/dist-packages/tqdm/auto.py:21: TqdmWarning: IProgress not found. Please update jupyter and ipywidgets. See https://ipywidgets.readthedocs.io/en/stable/user_install.html\n",
      "  from .autonotebook import tqdm as notebook_tqdm\n"
     ]
    }
   ],
   "source": [
    "from bert import BertForMaskedLM\n",
    "from text.symbols import symbols, MASK_TOKEN_ID\n",
    "from text import text_to_sequence\n",
    "import utils\n",
    "import commons\n",
    "import torch"
   ]
  },
  {
   "cell_type": "code",
   "execution_count": 2,
   "metadata": {},
   "outputs": [],
   "source": [
    "hps = utils.get_hparams_from_file(\"configs/id_bert_base.json\")"
   ]
  },
  {
   "cell_type": "code",
   "execution_count": 3,
   "metadata": {},
   "outputs": [],
   "source": [
    "model = BertForMaskedLM(\n",
    "    n_vocab=len(symbols),\n",
    "    out_channels=hps.model.inter_channels,\n",
    "    hidden_channels=hps.model.hidden_channels,\n",
    "    filter_channels=hps.model.filter_channels,\n",
    "    n_heads=hps.model.n_heads,\n",
    "    n_layers=hps.model.n_layers,\n",
    "    kernel_size=hps.model.kernel_size,\n",
    "    p_dropout=hps.model.p_dropout,\n",
    ")"
   ]
  },
  {
   "cell_type": "code",
   "execution_count": 4,
   "metadata": {},
   "outputs": [
    {
     "data": {
      "text/plain": [
       "<All keys matched successfully>"
      ]
     },
     "execution_count": 4,
     "metadata": {},
     "output_type": "execute_result"
    }
   ],
   "source": [
    "model.load_state_dict(torch.load('logs/id_bert_base/pytorch_model.bin'))"
   ]
  },
  {
   "cell_type": "code",
   "execution_count": 5,
   "metadata": {},
   "outputs": [],
   "source": [
    "text = \"ia memblokir seseorang\"\n",
    "text_norm = text_to_sequence(text, [\"indonesian_cleaners\"])\n",
    "input_ids = commons.intersperse(text_norm, 0)\n",
    "input_tokens = [symbols[i] for i in input_ids]"
   ]
  },
  {
   "cell_type": "code",
   "execution_count": 10,
   "metadata": {},
   "outputs": [],
   "source": [
    "# mask e's (or whatever phoneme you'd like the model to predict)\n",
    "MASK_PHONEMES = ['ə', 'e']\n",
    "input_ids = [i if t not in MASK_PHONEMES else MASK_TOKEN_ID for i, t in zip(input_ids, input_tokens)]\n",
    "masked_idxs = [i for i, t in enumerate(input_ids) if t == MASK_TOKEN_ID]"
   ]
  },
  {
   "cell_type": "code",
   "execution_count": 14,
   "metadata": {},
   "outputs": [],
   "source": [
    "device = \"cuda\"\n",
    "text_lengths = torch.LongTensor([len(input_ids)]).to(device)\n",
    "text_norm = torch.LongTensor([input_ids]).to(device)\n",
    "model = model.to(device)"
   ]
  },
  {
   "cell_type": "code",
   "execution_count": 25,
   "metadata": {},
   "outputs": [],
   "source": [
    "loss, logits, hidden = model(text_norm, text_lengths) # logits: [B, T, V]\n",
    "preds = torch.argmax(logits.squeeze(0), dim=1).cpu().numpy() # preds: [T]"
   ]
  },
  {
   "cell_type": "code",
   "execution_count": 30,
   "metadata": {},
   "outputs": [
    {
     "data": {
      "text/plain": [
       "'_i_a_ _m_ə_m_b_l_o_k_i_r_ _s_ə_s_ə_o_r_a_ŋ_'"
      ]
     },
     "execution_count": 30,
     "metadata": {},
     "output_type": "execute_result"
    }
   ],
   "source": [
    "# unmask phonemes\n",
    "predicted_input_ids = [preds[idx] if idx in masked_idxs else i for idx, i in enumerate(input_ids)]\n",
    "recovered_sequence = \"\".join([symbols[i] for i in predicted_input_ids])\n",
    "recovered_sequence"
   ]
  },
  {
   "cell_type": "code",
   "execution_count": null,
   "metadata": {},
   "outputs": [],
   "source": []
  }
 ],
 "metadata": {
  "kernelspec": {
   "display_name": "Python 3",
   "language": "python",
   "name": "python3"
  },
  "language_info": {
   "codemirror_mode": {
    "name": "ipython",
    "version": 3
   },
   "file_extension": ".py",
   "mimetype": "text/x-python",
   "name": "python",
   "nbconvert_exporter": "python",
   "pygments_lexer": "ipython3",
   "version": "3.10.12"
  },
  "orig_nbformat": 4
 },
 "nbformat": 4,
 "nbformat_minor": 2
}
